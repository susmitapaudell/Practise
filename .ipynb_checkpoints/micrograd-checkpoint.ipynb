{
 "cells": [
  {
   "cell_type": "code",
   "execution_count": 24,
   "id": "d52a3af6-1423-4862-acac-edee3bf700fa",
   "metadata": {},
   "outputs": [],
   "source": [
    "import math\n",
    "import numpy as np\n",
    "import matplotlib.pyplot as plt\n",
    "%matplotlib inline"
   ]
  },
  {
   "cell_type": "code",
   "execution_count": 25,
   "id": "81ecf530-edf5-4692-a1fc-09a0cb28eb4c",
   "metadata": {},
   "outputs": [],
   "source": [
    "def f(x):\n",
    "    return 3*x**2 - 4*x + 5"
   ]
  },
  {
   "cell_type": "code",
   "execution_count": 26,
   "id": "44db960f-7376-4ade-9b07-0a53cff22c66",
   "metadata": {},
   "outputs": [
    {
     "data": {
      "text/plain": [
       "20"
      ]
     },
     "execution_count": 26,
     "metadata": {},
     "output_type": "execute_result"
    }
   ],
   "source": [
    "f(3)"
   ]
  },
  {
   "cell_type": "code",
   "execution_count": 27,
   "id": "c168b76b-cd58-4661-9504-d5a1269f14aa",
   "metadata": {},
   "outputs": [
    {
     "data": {
      "image/png": "[encoded data removed]",
      "text/plain": [
       "<Figure size 640x480 with 1 Axes>"
      ]
     },
     "metadata": {},
     "output_type": "display_data"
    }
   ],
   "source": [
    "xs = np.arange(-5, 5, 0.5)\n",
    "ys = f(xs)\n",
    "plt.plot(xs, ys)\n",
    "plt.show()"
   ]
  },
  {
   "cell_type": "code",
   "execution_count": 95,
   "id": "d4f39393-836a-45d1-9ffd-d70b9c2544de",
   "metadata": {},
   "outputs": [],
   "source": [
    "class Value:\n",
    "    def __init__(self, data, _children=(), _op = \" \", label = \" \"):\n",
    "        self.data = data \n",
    "        self._prev = set(_children)\n",
    "        self._op = _op\n",
    "        self.label = label\n",
    "        self.grad = 0.0\n",
    "\n",
    "    def __repr__(self):\n",
    "        return f\"Value(data={self.data})\" \n",
    "\n",
    "    def __add__(self, other):\n",
    "        out = Value(self.data + other.data, (self, other), '+')\n",
    "        return out\n",
    "\n",
    "    def __mul__(self, other):\n",
    "        out = Value(self.data * other.data, (self, other), '*')\n",
    "        return out\n",
    "        \n",
    "a = Value(2, label='a')\n",
    "b = Value(-3, label='b')\n",
    "c = Value(10, label='c')\n",
    "\n",
    "e = a + b; e.label='e'\n",
    "d = e + c; d.label = 'd'\n",
    "f = Value(-2); f.label = 'f'\n",
    "L = d * f ; L.label = 'L'"
   ]
  },
  {
   "cell_type": "code",
   "execution_count": 96,
   "id": "03b83ba5-15a6-4b79-9ab2-2fc9c8b9444c",
   "metadata": {},
   "outputs": [
    {
     "data": {
      "text/plain": [
       "{Value(data=-1), Value(data=10)}"
      ]
     },
     "execution_count": 96,
     "metadata": {},
     "output_type": "execute_result"
    }
   ],
   "source": [
    "d._prev"
   ]
  },
  {
   "cell_type": "code",
   "execution_count": 97,
   "id": "9a4f23f3-905c-4ac4-9758-ad55158f1dd6",
   "metadata": {},
   "outputs": [
    {
     "data": {
      "text/plain": [
       "'+'"
      ]
     },
     "execution_count": 97,
     "metadata": {},
     "output_type": "execute_result"
    }
   ],
   "source": [
    "d._op"
   ]
  },
  {
   "cell_type": "code",
   "execution_count": 98,
   "id": "f576590a-2598-413d-8e81-b11972ff36f3",
   "metadata": {},
   "outputs": [],
   "source": [
    "from graphviz import Digraph\n",
    "\n",
    "def trace(root):\n",
    "  # builds a set of all nodes and edges in a graph\n",
    "  nodes, edges = set(), set()\n",
    "  def build(v):\n",
    "    if v not in nodes:\n",
    "      nodes.add(v)\n",
    "      for child in v._prev:\n",
    "        edges.add((child, v))\n",
    "        build(child)\n",
    "  build(root)\n",
    "  return nodes, edges\n",
    "\n",
    "def draw_dot(root):\n",
    "  dot = Digraph(format='svg', graph_attr={'rankdir': 'LR'}) # LR = left to right\n",
    "  \n",
    "  nodes,edges = trace(root)\n",
    "  for n in nodes:\n",
    "    uid = str(id(n))\n",
    "    # for any value in the graph, create a rectangular ('record') node for it\n",
    "    dot.node(name = uid, label = \"{ %s | grad %.4f | data %.4f}\" % (n.label, n.grad, n.data), shape='record')\n",
    "    if n._op:\n",
    "      # if this value is a result of some operation, create an op node for it\n",
    "      dot.node(name = uid + n._op, label = n._op)\n",
    "      # and connect this node to it\n",
    "      dot.edge(uid + n._op, uid)\n",
    "\n",
    "  for n1, n2 in edges:\n",
    "    # connect n1 to the op node of n2\n",
    "    dot.edge(str(id(n1)), str(id(n2)) + n2._op)\n",
    "\n",
    "  return dot"
   ]
  },
  {
   "cell_type": "code",
   "execution_count": 99,
   "id": "6cbc049d-82d3-47e4-87de-e33ba2c25929",
   "metadata": {},
   "outputs": [
    {
     "data": {
      "image/svg+xml": [
       "<?xml version=\"1.0\" encoding=\"UTF-8\" standalone=\"no\"?>\n",
       "<!DOCTYPE svg PUBLIC \"-//W3C//DTD SVG 1.1//EN\"\n",
       " \"http://www.w3.org/Graphics/SVG/1.1/DTD/svg11.dtd\">\n",
       "<!-- Generated by graphviz version 12.2.1 (20241206.2353)\n",
       " -->\n",
       "<!-- Pages: 1 -->\n",
       "<svg width=\"1237pt\" height=\"127pt\"\n",
       " viewBox=\"0.00 0.00 1236.50 127.00\" xmlns=\"http://www.w3.org/2000/svg\" xmlns:xlink=\"http://www.w3.org/1999/xlink\">\n",
       "<g id=\"graph0\" class=\"graph\" transform=\"scale(1 1) rotate(0) translate(4 123)\">\n",
       "<polygon fill=\"white\" stroke=\"none\" points=\"-4,4 -4,-123 1232.5,-123 1232.5,4 -4,4\"/>\n",
       "<!-- 4388021808 -->\n",
       "<g id=\"node1\" class=\"node\">\n",
       "<title>4388021808</title>\n",
       "<polygon fill=\"none\" stroke=\"black\" points=\"721.12,-27.5 721.12,-63.5 904.88,-63.5 904.88,-27.5 721.12,-27.5\"/>\n",
       "<text text-anchor=\"middle\" x=\"732.5\" y=\"-40.7\" font-family=\"Times,serif\" font-size=\"14.00\">d</text>\n",
       "<polyline fill=\"none\" stroke=\"black\" points=\"743.88,-28 743.88,-63.5\"/>\n",
       "<text text-anchor=\"middle\" x=\"784.5\" y=\"-40.7\" font-family=\"Times,serif\" font-size=\"14.00\">grad 0.0000</text>\n",
       "<polyline fill=\"none\" stroke=\"black\" points=\"825.12,-28 825.12,-63.5\"/>\n",
       "<text text-anchor=\"middle\" x=\"865\" y=\"-40.7\" font-family=\"Times,serif\" font-size=\"14.00\">data 9.0000</text>\n",
       "</g>\n",
       "<!-- 4388022336* -->\n",
       "<g id=\"node4\" class=\"node\">\n",
       "<title>4388022336*</title>\n",
       "<ellipse fill=\"none\" stroke=\"black\" cx=\"969\" cy=\"-72.5\" rx=\"27\" ry=\"18\"/>\n",
       "<text text-anchor=\"middle\" x=\"969\" y=\"-67.45\" font-family=\"Times,serif\" font-size=\"14.00\">*</text>\n",
       "</g>\n",
       "<!-- 4388021808&#45;&gt;4388022336* -->\n",
       "<g id=\"edge13\" class=\"edge\">\n",
       "<title>4388021808&#45;&gt;4388022336*</title>\n",
       "<path fill=\"none\" stroke=\"black\" d=\"M905.36,-61.52C914.5,-63.12 923.36,-64.67 931.4,-66.08\"/>\n",
       "<polygon fill=\"black\" stroke=\"black\" points=\"930.58,-69.49 941.04,-67.77 931.79,-62.6 930.58,-69.49\"/>\n",
       "</g>\n",
       "<!-- 4388021808+ -->\n",
       "<g id=\"node2\" class=\"node\">\n",
       "<title>4388021808+</title>\n",
       "<ellipse fill=\"none\" stroke=\"black\" cx=\"657\" cy=\"-45.5\" rx=\"27\" ry=\"18\"/>\n",
       "<text text-anchor=\"middle\" x=\"657\" y=\"-40.45\" font-family=\"Times,serif\" font-size=\"14.00\">+</text>\n",
       "</g>\n",
       "<!-- 4388021808+&#45;&gt;4388021808 -->\n",
       "<g id=\"edge1\" class=\"edge\">\n",
       "<title>4388021808+&#45;&gt;4388021808</title>\n",
       "<path fill=\"none\" stroke=\"black\" d=\"M684.47,-45.5C691.87,-45.5 700.38,-45.5 709.43,-45.5\"/>\n",
       "<polygon fill=\"black\" stroke=\"black\" points=\"709.17,-49 719.17,-45.5 709.17,-42 709.17,-49\"/>\n",
       "</g>\n",
       "<!-- 4388022336 -->\n",
       "<g id=\"node3\" class=\"node\">\n",
       "<title>4388022336</title>\n",
       "<polygon fill=\"none\" stroke=\"black\" points=\"1032,-54.5 1032,-90.5 1228.5,-90.5 1228.5,-54.5 1032,-54.5\"/>\n",
       "<text text-anchor=\"middle\" x=\"1044.12\" y=\"-67.7\" font-family=\"Times,serif\" font-size=\"14.00\">L</text>\n",
       "<polyline fill=\"none\" stroke=\"black\" points=\"1056.25,-55 1056.25,-90.5\"/>\n",
       "<text text-anchor=\"middle\" x=\"1096.88\" y=\"-67.7\" font-family=\"Times,serif\" font-size=\"14.00\">grad 0.0000</text>\n",
       "<polyline fill=\"none\" stroke=\"black\" points=\"1137.5,-55 1137.5,-90.5\"/>\n",
       "<text text-anchor=\"middle\" x=\"1183\" y=\"-67.7\" font-family=\"Times,serif\" font-size=\"14.00\">data &#45;18.0000</text>\n",
       "</g>\n",
       "<!-- 4388022336*&#45;&gt;4388022336 -->\n",
       "<g id=\"edge2\" class=\"edge\">\n",
       "<title>4388022336*&#45;&gt;4388022336</title>\n",
       "<path fill=\"none\" stroke=\"black\" d=\"M996.3,-72.5C1003.44,-72.5 1011.64,-72.5 1020.39,-72.5\"/>\n",
       "<polygon fill=\"black\" stroke=\"black\" points=\"1020.22,-76 1030.22,-72.5 1020.22,-69 1020.22,-76\"/>\n",
       "</g>\n",
       "<!-- 4388012640 -->\n",
       "<g id=\"node5\" class=\"node\">\n",
       "<title>4388012640</title>\n",
       "<polygon fill=\"none\" stroke=\"black\" points=\"405.38,-55.5 405.38,-91.5 592.88,-91.5 592.88,-55.5 405.38,-55.5\"/>\n",
       "<text text-anchor=\"middle\" x=\"416.38\" y=\"-68.7\" font-family=\"Times,serif\" font-size=\"14.00\">e</text>\n",
       "<polyline fill=\"none\" stroke=\"black\" points=\"427.38,-56 427.38,-91.5\"/>\n",
       "<text text-anchor=\"middle\" x=\"468\" y=\"-68.7\" font-family=\"Times,serif\" font-size=\"14.00\">grad 0.0000</text>\n",
       "<polyline fill=\"none\" stroke=\"black\" points=\"508.62,-56 508.62,-91.5\"/>\n",
       "<text text-anchor=\"middle\" x=\"550.75\" y=\"-68.7\" font-family=\"Times,serif\" font-size=\"14.00\">data &#45;1.0000</text>\n",
       "</g>\n",
       "<!-- 4388012640&#45;&gt;4388021808+ -->\n",
       "<g id=\"edge8\" class=\"edge\">\n",
       "<title>4388012640&#45;&gt;4388021808+</title>\n",
       "<path fill=\"none\" stroke=\"black\" d=\"M593.05,-56.81C602.25,-55.16 611.16,-53.56 619.24,-52.1\"/>\n",
       "<polygon fill=\"black\" stroke=\"black\" points=\"619.71,-55.58 628.93,-50.36 618.47,-48.69 619.71,-55.58\"/>\n",
       "</g>\n",
       "<!-- 4388012640+ -->\n",
       "<g id=\"node6\" class=\"node\">\n",
       "<title>4388012640+</title>\n",
       "<ellipse fill=\"none\" stroke=\"black\" cx=\"341.25\" cy=\"-73.5\" rx=\"27\" ry=\"18\"/>\n",
       "<text text-anchor=\"middle\" x=\"341.25\" y=\"-68.45\" font-family=\"Times,serif\" font-size=\"14.00\">+</text>\n",
       "</g>\n",
       "<!-- 4388012640+&#45;&gt;4388012640 -->\n",
       "<g id=\"edge3\" class=\"edge\">\n",
       "<title>4388012640+&#45;&gt;4388012640</title>\n",
       "<path fill=\"none\" stroke=\"black\" d=\"M368.69,-73.5C376.1,-73.5 384.64,-73.5 393.71,-73.5\"/>\n",
       "<polygon fill=\"black\" stroke=\"black\" points=\"393.51,-77 403.51,-73.5 393.51,-70 393.51,-77\"/>\n",
       "</g>\n",
       "<!-- 4388018928 -->\n",
       "<g id=\"node7\" class=\"node\">\n",
       "<title>4388018928</title>\n",
       "<polygon fill=\"none\" stroke=\"black\" points=\"90,-82.5 90,-118.5 278.25,-118.5 278.25,-82.5 90,-82.5\"/>\n",
       "<text text-anchor=\"middle\" x=\"101.38\" y=\"-95.7\" font-family=\"Times,serif\" font-size=\"14.00\">b</text>\n",
       "<polyline fill=\"none\" stroke=\"black\" points=\"112.75,-83 112.75,-118.5\"/>\n",
       "<text text-anchor=\"middle\" x=\"153.38\" y=\"-95.7\" font-family=\"Times,serif\" font-size=\"14.00\">grad 0.0000</text>\n",
       "<polyline fill=\"none\" stroke=\"black\" points=\"194,-83 194,-118.5\"/>\n",
       "<text text-anchor=\"middle\" x=\"236.12\" y=\"-95.7\" font-family=\"Times,serif\" font-size=\"14.00\">data &#45;3.0000</text>\n",
       "</g>\n",
       "<!-- 4388018928&#45;&gt;4388012640+ -->\n",
       "<g id=\"edge11\" class=\"edge\">\n",
       "<title>4388018928&#45;&gt;4388012640+</title>\n",
       "<path fill=\"none\" stroke=\"black\" d=\"M278.49,-84.25C287.27,-82.72 295.77,-81.24 303.51,-79.9\"/>\n",
       "<polygon fill=\"black\" stroke=\"black\" points=\"303.86,-83.39 313.11,-78.22 302.66,-76.49 303.86,-83.39\"/>\n",
       "</g>\n",
       "<!-- 4388018928  -->\n",
       "<g id=\"node8\" class=\"node\">\n",
       "<title>4388018928 </title>\n",
       "<ellipse fill=\"none\" stroke=\"black\" cx=\"27\" cy=\"-100.5\" rx=\"27\" ry=\"18\"/>\n",
       "<text text-anchor=\"middle\" x=\"27\" y=\"-95.45\" font-family=\"Times,serif\" font-size=\"14.00\"> </text>\n",
       "</g>\n",
       "<!-- 4388018928 &#45;&gt;4388018928 -->\n",
       "<g id=\"edge4\" class=\"edge\">\n",
       "<title>4388018928 &#45;&gt;4388018928</title>\n",
       "<path fill=\"none\" stroke=\"black\" d=\"M54.31,-100.5C61.49,-100.5 69.72,-100.5 78.47,-100.5\"/>\n",
       "<polygon fill=\"black\" stroke=\"black\" points=\"78.29,-104 88.29,-100.5 78.29,-97 78.29,-104\"/>\n",
       "</g>\n",
       "<!-- 4388021520 -->\n",
       "<g id=\"node9\" class=\"node\">\n",
       "<title>4388021520</title>\n",
       "<polygon fill=\"none\" stroke=\"black\" points=\"720,-82.5 720,-118.5 906,-118.5 906,-82.5 720,-82.5\"/>\n",
       "<text text-anchor=\"middle\" x=\"730.25\" y=\"-95.7\" font-family=\"Times,serif\" font-size=\"14.00\">f</text>\n",
       "<polyline fill=\"none\" stroke=\"black\" points=\"740.5,-83 740.5,-118.5\"/>\n",
       "<text text-anchor=\"middle\" x=\"781.12\" y=\"-95.7\" font-family=\"Times,serif\" font-size=\"14.00\">grad 0.0000</text>\n",
       "<polyline fill=\"none\" stroke=\"black\" points=\"821.75,-83 821.75,-118.5\"/>\n",
       "<text text-anchor=\"middle\" x=\"863.88\" y=\"-95.7\" font-family=\"Times,serif\" font-size=\"14.00\">data &#45;2.0000</text>\n",
       "</g>\n",
       "<!-- 4388021520&#45;&gt;4388022336* -->\n",
       "<g id=\"edge12\" class=\"edge\">\n",
       "<title>4388021520&#45;&gt;4388022336*</title>\n",
       "<path fill=\"none\" stroke=\"black\" d=\"M906.25,-83.73C915.1,-82.12 923.67,-80.56 931.46,-79.14\"/>\n",
       "<polygon fill=\"black\" stroke=\"black\" points=\"931.93,-82.62 941.15,-77.38 930.68,-75.73 931.93,-82.62\"/>\n",
       "</g>\n",
       "<!-- 4388021520  -->\n",
       "<g id=\"node10\" class=\"node\">\n",
       "<title>4388021520 </title>\n",
       "<ellipse fill=\"none\" stroke=\"black\" cx=\"657\" cy=\"-100.5\" rx=\"27\" ry=\"18\"/>\n",
       "<text text-anchor=\"middle\" x=\"657\" y=\"-95.45\" font-family=\"Times,serif\" font-size=\"14.00\"> </text>\n",
       "</g>\n",
       "<!-- 4388021520 &#45;&gt;4388021520 -->\n",
       "<g id=\"edge5\" class=\"edge\">\n",
       "<title>4388021520 &#45;&gt;4388021520</title>\n",
       "<path fill=\"none\" stroke=\"black\" d=\"M684.47,-100.5C691.61,-100.5 699.78,-100.5 708.46,-100.5\"/>\n",
       "<polygon fill=\"black\" stroke=\"black\" points=\"708.19,-104 718.19,-100.5 708.19,-97 708.19,-104\"/>\n",
       "</g>\n",
       "<!-- 4388021136 -->\n",
       "<g id=\"node11\" class=\"node\">\n",
       "<title>4388021136</title>\n",
       "<polygon fill=\"none\" stroke=\"black\" points=\"404.25,-0.5 404.25,-36.5 594,-36.5 594,-0.5 404.25,-0.5\"/>\n",
       "<text text-anchor=\"middle\" x=\"415.25\" y=\"-13.7\" font-family=\"Times,serif\" font-size=\"14.00\">c</text>\n",
       "<polyline fill=\"none\" stroke=\"black\" points=\"426.25,-1 426.25,-36.5\"/>\n",
       "<text text-anchor=\"middle\" x=\"466.88\" y=\"-13.7\" font-family=\"Times,serif\" font-size=\"14.00\">grad 0.0000</text>\n",
       "<polyline fill=\"none\" stroke=\"black\" points=\"507.5,-1 507.5,-36.5\"/>\n",
       "<text text-anchor=\"middle\" x=\"550.75\" y=\"-13.7\" font-family=\"Times,serif\" font-size=\"14.00\">data 10.0000</text>\n",
       "</g>\n",
       "<!-- 4388021136&#45;&gt;4388021808+ -->\n",
       "<g id=\"edge9\" class=\"edge\">\n",
       "<title>4388021136&#45;&gt;4388021808+</title>\n",
       "<path fill=\"none\" stroke=\"black\" d=\"M594.39,-34.83C603.16,-36.35 611.65,-37.82 619.37,-39.15\"/>\n",
       "<polygon fill=\"black\" stroke=\"black\" points=\"618.5,-42.56 628.95,-40.81 619.69,-35.66 618.5,-42.56\"/>\n",
       "</g>\n",
       "<!-- 4388021136  -->\n",
       "<g id=\"node12\" class=\"node\">\n",
       "<title>4388021136 </title>\n",
       "<ellipse fill=\"none\" stroke=\"black\" cx=\"341.25\" cy=\"-18.5\" rx=\"27\" ry=\"18\"/>\n",
       "<text text-anchor=\"middle\" x=\"341.25\" y=\"-13.45\" font-family=\"Times,serif\" font-size=\"14.00\"> </text>\n",
       "</g>\n",
       "<!-- 4388021136 &#45;&gt;4388021136 -->\n",
       "<g id=\"edge6\" class=\"edge\">\n",
       "<title>4388021136 &#45;&gt;4388021136</title>\n",
       "<path fill=\"none\" stroke=\"black\" d=\"M368.69,-18.5C375.84,-18.5 384.03,-18.5 392.74,-18.5\"/>\n",
       "<polygon fill=\"black\" stroke=\"black\" points=\"392.51,-22 402.51,-18.5 392.51,-15 392.51,-22\"/>\n",
       "</g>\n",
       "<!-- 4388019168 -->\n",
       "<g id=\"node13\" class=\"node\">\n",
       "<title>4388019168</title>\n",
       "<polygon fill=\"none\" stroke=\"black\" points=\"92.62,-27.5 92.62,-63.5 275.62,-63.5 275.62,-27.5 92.62,-27.5\"/>\n",
       "<text text-anchor=\"middle\" x=\"103.62\" y=\"-40.7\" font-family=\"Times,serif\" font-size=\"14.00\">a</text>\n",
       "<polyline fill=\"none\" stroke=\"black\" points=\"114.62,-28 114.62,-63.5\"/>\n",
       "<text text-anchor=\"middle\" x=\"155.25\" y=\"-40.7\" font-family=\"Times,serif\" font-size=\"14.00\">grad 0.0000</text>\n",
       "<polyline fill=\"none\" stroke=\"black\" points=\"195.88,-28 195.88,-63.5\"/>\n",
       "<text text-anchor=\"middle\" x=\"235.75\" y=\"-40.7\" font-family=\"Times,serif\" font-size=\"14.00\">data 2.0000</text>\n",
       "</g>\n",
       "<!-- 4388019168&#45;&gt;4388012640+ -->\n",
       "<g id=\"edge10\" class=\"edge\">\n",
       "<title>4388019168&#45;&gt;4388012640+</title>\n",
       "<path fill=\"none\" stroke=\"black\" d=\"M275.81,-61.87C285.66,-63.65 295.21,-65.37 303.82,-66.92\"/>\n",
       "<polygon fill=\"black\" stroke=\"black\" points=\"302.95,-70.32 313.41,-68.66 304.19,-63.43 302.95,-70.32\"/>\n",
       "</g>\n",
       "<!-- 4388019168  -->\n",
       "<g id=\"node14\" class=\"node\">\n",
       "<title>4388019168 </title>\n",
       "<ellipse fill=\"none\" stroke=\"black\" cx=\"27\" cy=\"-45.5\" rx=\"27\" ry=\"18\"/>\n",
       "<text text-anchor=\"middle\" x=\"27\" y=\"-40.45\" font-family=\"Times,serif\" font-size=\"14.00\"> </text>\n",
       "</g>\n",
       "<!-- 4388019168 &#45;&gt;4388019168 -->\n",
       "<g id=\"edge7\" class=\"edge\">\n",
       "<title>4388019168 &#45;&gt;4388019168</title>\n",
       "<path fill=\"none\" stroke=\"black\" d=\"M54.31,-45.5C62.23,-45.5 71.43,-45.5 81.21,-45.5\"/>\n",
       "<polygon fill=\"black\" stroke=\"black\" points=\"80.94,-49 90.94,-45.5 80.94,-42 80.94,-49\"/>\n",
       "</g>\n",
       "</g>\n",
       "</svg>\n"
      ],
      "text/plain": [
       "<graphviz.graphs.Digraph at 0x1058bd910>"
      ]
     },
     "execution_count": 99,
     "metadata": {},
     "output_type": "execute_result"
    }
   ],
   "source": [
    "draw_dot(L)"
   ]
  },
  {
   "cell_type": "code",
   "execution_count": 100,
   "id": "7e48e024-f7ac-4b09-bf3d-1e1016ff318d",
   "metadata": {},
   "outputs": [],
   "source": [
    "L.grad = 1\n",
    "d.grad = -2\n",
    "f.grad = 4\n",
    "c.grad = -2\n",
    "e.grad = -2\n",
    "a.grad = 6\n",
    "b.grad = -4"
   ]
  },
  {
   "cell_type": "code",
   "execution_count": 101,
   "id": "2ec01f61-84b7-49ea-9c42-40b5ff91c820",
   "metadata": {},
   "outputs": [
    {
     "name": "stdout",
     "output_type": "stream",
     "text": [
      "-7.928064095999999\n"
     ]
    }
   ],
   "source": [
    "a.data += 0.001 * a.grad\n",
    "b.data += 0.001 * b.grad\n",
    "c.data += 0.001 * c.grad\n",
    "f.data += 0.001 * f.grad\n",
    "\n",
    "e = a * b\n",
    "d = e + c\n",
    "L = d * f\n",
    "\n",
    "print(L.data)"
   ]
  },
  {
   "cell_type": "code",
   "execution_count": 91,
   "id": "8b5540a9-82bc-44b2-b55b-efa237df7c5b",
   "metadata": {},
   "outputs": [
    {
     "name": "stdout",
     "output_type": "stream",
     "text": [
      "0.0\n"
     ]
    }
   ],
   "source": [
    "def lol():\n",
    "    \n",
    "    h = 0.001\n",
    "    a = Value(2, label='a')\n",
    "    b = Value(-3, label='b')\n",
    "    c = Value(10, label='c')\n",
    "    \n",
    "    e = a * b; e.label='e'\n",
    "    d = e + c ; d.label = 'd'\n",
    "    f = Value(-2); f.label = 'f'\n",
    "    L = d * f ; L.label = 'L'\n",
    "    L1 = L.data \n",
    "    \n",
    "    a = Value(2 , label='a')\n",
    "    b = Value(-3 , label='b')\n",
    "    c = Value(10 , label='c')\n",
    "    \n",
    "    e = a * b; e.label='e'\n",
    "    d = e + c ; d.label = 'd'\n",
    "    f = Value(-2); f.label = 'f'\n",
    "    L = d * f ; L.label = 'L'\n",
    "    L2 = L.data \n",
    "\n",
    "    print((L2-L1)/h)\n",
    "\n",
    "lol()"
   ]
  },
  {
   "cell_type": "code",
   "execution_count": null,
   "id": "bd4c404f-19bb-4db4-a68f-e2d37cde14a3",
   "metadata": {},
   "outputs": [],
   "source": []
  },
  {
   "cell_type": "code",
   "execution_count": null,
   "id": "94eff4d0-c5ce-4063-a9c5-925823c11011",
   "metadata": {},
   "outputs": [],
   "source": []
  },
  {
   "cell_type": "code",
   "execution_count": null,
   "id": "9ec6937d-4b87-4616-9530-ed40e5c97025",
   "metadata": {},
   "outputs": [],
   "source": []
  },
  {
   "cell_type": "code",
   "execution_count": null,
   "id": "b316c0c1-2afc-4cd5-aa74-aaaa717ab020",
   "metadata": {},
   "outputs": [],
   "source": []
  }
 ],
 "metadata": {
  "kernelspec": {
   "display_name": "Python 3 (ipykernel)",
   "language": "python",
   "name": "python3"
  },
  "language_info": {
   "codemirror_mode": {
    "name": "ipython",
    "version": 3
   },
   "file_extension": ".py",
   "mimetype": "text/x-python",
   "name": "python",
   "nbconvert_exporter": "python",
   "pygments_lexer": "ipython3",
   "version": "3.12.3"
  }
 },
 "nbformat": 4,
 "nbformat_minor": 5
}
