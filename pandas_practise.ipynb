{
 "cells": [
  {
   "cell_type": "code",
   "execution_count": 1,
   "id": "c9a4cb63-5964-4718-8e5b-c70564a55b9c",
   "metadata": {},
   "outputs": [
    {
     "name": "stdout",
     "output_type": "stream",
     "text": [
      "apples     NaN\n",
      "armut      NaN\n",
      "cherries   NaN\n",
      "elma       NaN\n",
      "kiraz      NaN\n",
      "oranges    NaN\n",
      "pears      NaN\n",
      "portakal   NaN\n",
      "dtype: float64\n"
     ]
    }
   ],
   "source": [
    "import pandas as pd\n",
    "fruits = ['apples', 'oranges', 'cherries', 'pears']\n",
    "fruits_tr = ['elma', 'portakal', 'kiraz', 'armut']\n",
    "S = pd.Series([20, 33, 52, 10], index=fruits)\n",
    "S2 = pd.Series([17, 13, 31, 32], index=fruits_tr)\n",
    "print(S + S2)"
   ]
  },
  {
   "cell_type": "code",
   "execution_count": 4,
   "id": "bfda0647-373a-4ad5-9cbd-8281d194a008",
   "metadata": {},
   "outputs": [
    {
     "name": "stdout",
     "output_type": "stream",
     "text": [
      "20\n",
      "apples    20\n",
      "dtype: int64\n"
     ]
    }
   ],
   "source": [
    "print(S['apples'])\n",
    "print(S[['apples']])"
   ]
  },
  {
   "cell_type": "code",
   "execution_count": 5,
   "id": "55aff2e8-b674-42e0-950f-31e08cbdc1e0",
   "metadata": {},
   "outputs": [
    {
     "name": "stdout",
     "output_type": "stream",
     "text": [
      "apples       60\n",
      "oranges      99\n",
      "cherries    156\n",
      "pears        30\n",
      "dtype: int64\n"
     ]
    }
   ],
   "source": [
    "import numpy as np\n",
    "print(S*3)"
   ]
  },
  {
   "cell_type": "code",
   "execution_count": null,
   "id": "d56b42a4-bd9c-47c2-ac4f-2cca29baea62",
   "metadata": {},
   "outputs": [],
   "source": []
  }
 ],
 "metadata": {
  "kernelspec": {
   "display_name": "Python 3 (ipykernel)",
   "language": "python",
   "name": "python3"
  },
  "language_info": {
   "codemirror_mode": {
    "name": "ipython",
    "version": 3
   },
   "file_extension": ".py",
   "mimetype": "text/x-python",
   "name": "python",
   "nbconvert_exporter": "python",
   "pygments_lexer": "ipython3",
   "version": "3.12.3"
  }
 },
 "nbformat": 4,
 "nbformat_minor": 5
}
